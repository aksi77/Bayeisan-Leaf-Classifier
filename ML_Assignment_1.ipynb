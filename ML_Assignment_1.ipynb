{
  "nbformat": 4,
  "nbformat_minor": 0,
  "metadata": {
    "colab": {
      "provenance": []
    },
    "kernelspec": {
      "name": "python3",
      "display_name": "Python 3"
    },
    "language_info": {
      "name": "python"
    }
  },
  "cells": [
    {
      "cell_type": "code",
      "source": [
        "#By Akshith Vinu and Tejhuram Ravichandran"
      ],
      "metadata": {
        "id": "mJlNeiHKG4u6"
      },
      "execution_count": null,
      "outputs": []
    },
    {
      "cell_type": "code",
      "execution_count": 2,
      "metadata": {
        "colab": {
          "base_uri": "https://localhost:8080/"
        },
        "id": "vxkqfixGAjeX",
        "outputId": "2697fc9e-8466-4870-845a-d9c44e9f356d"
      },
      "outputs": [
        {
          "output_type": "stream",
          "name": "stdout",
          "text": [
            "Mounted at /content/drive\n"
          ]
        }
      ],
      "source": [
        "from google.colab import drive\n",
        "drive.mount('/content/drive')"
      ]
    },
    {
      "cell_type": "code",
      "source": [
        "import numpy as np\n",
        "import pandas as pd\n",
        "import os"
      ],
      "metadata": {
        "id": "b9K26c8-AwfJ"
      },
      "execution_count": 3,
      "outputs": []
    },
    {
      "cell_type": "code",
      "source": [
        "folder=\"/content/drive/MyDrive/images\""
      ],
      "metadata": {
        "id": "mEjsjVAMA-Eo"
      },
      "execution_count": 4,
      "outputs": []
    },
    {
      "cell_type": "code",
      "source": [
        "classids= pd.read_csv('/content/classids.csv')"
      ],
      "metadata": {
        "id": "vNuS3TUCBI_X"
      },
      "execution_count": 6,
      "outputs": []
    },
    {
      "cell_type": "code",
      "source": [
        "classids"
      ],
      "metadata": {
        "colab": {
          "base_uri": "https://localhost:8080/",
          "height": 423
        },
        "id": "h5B2ZCvRCNs9",
        "outputId": "50aab2e4-f687-4aec-b4e6-65419e525d57"
      },
      "execution_count": 7,
      "outputs": [
        {
          "output_type": "execute_result",
          "data": {
            "text/plain": [
              "       id                species\n",
              "0       1            Acer_Opalus\n",
              "1       2  Pterocarya_Stenoptera\n",
              "2       3   Quercus_Hartwissiana\n",
              "3       5        Tilia_Tomentosa\n",
              "4       6     Quercus_Variabilis\n",
              "..    ...                    ...\n",
              "985  1575   Magnolia_Salicifolia\n",
              "986  1578            Acer_Pictum\n",
              "987  1581     Alnus_Maximowiczii\n",
              "988  1582          Quercus_Rubra\n",
              "989  1584         Quercus_Afares\n",
              "\n",
              "[990 rows x 2 columns]"
            ],
            "text/html": [
              "\n",
              "  <div id=\"df-60d9ef95-7a32-4fd8-b982-0a1c30bd0b1e\" class=\"colab-df-container\">\n",
              "    <div>\n",
              "<style scoped>\n",
              "    .dataframe tbody tr th:only-of-type {\n",
              "        vertical-align: middle;\n",
              "    }\n",
              "\n",
              "    .dataframe tbody tr th {\n",
              "        vertical-align: top;\n",
              "    }\n",
              "\n",
              "    .dataframe thead th {\n",
              "        text-align: right;\n",
              "    }\n",
              "</style>\n",
              "<table border=\"1\" class=\"dataframe\">\n",
              "  <thead>\n",
              "    <tr style=\"text-align: right;\">\n",
              "      <th></th>\n",
              "      <th>id</th>\n",
              "      <th>species</th>\n",
              "    </tr>\n",
              "  </thead>\n",
              "  <tbody>\n",
              "    <tr>\n",
              "      <th>0</th>\n",
              "      <td>1</td>\n",
              "      <td>Acer_Opalus</td>\n",
              "    </tr>\n",
              "    <tr>\n",
              "      <th>1</th>\n",
              "      <td>2</td>\n",
              "      <td>Pterocarya_Stenoptera</td>\n",
              "    </tr>\n",
              "    <tr>\n",
              "      <th>2</th>\n",
              "      <td>3</td>\n",
              "      <td>Quercus_Hartwissiana</td>\n",
              "    </tr>\n",
              "    <tr>\n",
              "      <th>3</th>\n",
              "      <td>5</td>\n",
              "      <td>Tilia_Tomentosa</td>\n",
              "    </tr>\n",
              "    <tr>\n",
              "      <th>4</th>\n",
              "      <td>6</td>\n",
              "      <td>Quercus_Variabilis</td>\n",
              "    </tr>\n",
              "    <tr>\n",
              "      <th>...</th>\n",
              "      <td>...</td>\n",
              "      <td>...</td>\n",
              "    </tr>\n",
              "    <tr>\n",
              "      <th>985</th>\n",
              "      <td>1575</td>\n",
              "      <td>Magnolia_Salicifolia</td>\n",
              "    </tr>\n",
              "    <tr>\n",
              "      <th>986</th>\n",
              "      <td>1578</td>\n",
              "      <td>Acer_Pictum</td>\n",
              "    </tr>\n",
              "    <tr>\n",
              "      <th>987</th>\n",
              "      <td>1581</td>\n",
              "      <td>Alnus_Maximowiczii</td>\n",
              "    </tr>\n",
              "    <tr>\n",
              "      <th>988</th>\n",
              "      <td>1582</td>\n",
              "      <td>Quercus_Rubra</td>\n",
              "    </tr>\n",
              "    <tr>\n",
              "      <th>989</th>\n",
              "      <td>1584</td>\n",
              "      <td>Quercus_Afares</td>\n",
              "    </tr>\n",
              "  </tbody>\n",
              "</table>\n",
              "<p>990 rows × 2 columns</p>\n",
              "</div>\n",
              "    <div class=\"colab-df-buttons\">\n",
              "\n",
              "  <div class=\"colab-df-container\">\n",
              "    <button class=\"colab-df-convert\" onclick=\"convertToInteractive('df-60d9ef95-7a32-4fd8-b982-0a1c30bd0b1e')\"\n",
              "            title=\"Convert this dataframe to an interactive table.\"\n",
              "            style=\"display:none;\">\n",
              "\n",
              "  <svg xmlns=\"http://www.w3.org/2000/svg\" height=\"24px\" viewBox=\"0 -960 960 960\">\n",
              "    <path d=\"M120-120v-720h720v720H120Zm60-500h600v-160H180v160Zm220 220h160v-160H400v160Zm0 220h160v-160H400v160ZM180-400h160v-160H180v160Zm440 0h160v-160H620v160ZM180-180h160v-160H180v160Zm440 0h160v-160H620v160Z\"/>\n",
              "  </svg>\n",
              "    </button>\n",
              "\n",
              "  <style>\n",
              "    .colab-df-container {\n",
              "      display:flex;\n",
              "      gap: 12px;\n",
              "    }\n",
              "\n",
              "    .colab-df-convert {\n",
              "      background-color: #E8F0FE;\n",
              "      border: none;\n",
              "      border-radius: 50%;\n",
              "      cursor: pointer;\n",
              "      display: none;\n",
              "      fill: #1967D2;\n",
              "      height: 32px;\n",
              "      padding: 0 0 0 0;\n",
              "      width: 32px;\n",
              "    }\n",
              "\n",
              "    .colab-df-convert:hover {\n",
              "      background-color: #E2EBFA;\n",
              "      box-shadow: 0px 1px 2px rgba(60, 64, 67, 0.3), 0px 1px 3px 1px rgba(60, 64, 67, 0.15);\n",
              "      fill: #174EA6;\n",
              "    }\n",
              "\n",
              "    .colab-df-buttons div {\n",
              "      margin-bottom: 4px;\n",
              "    }\n",
              "\n",
              "    [theme=dark] .colab-df-convert {\n",
              "      background-color: #3B4455;\n",
              "      fill: #D2E3FC;\n",
              "    }\n",
              "\n",
              "    [theme=dark] .colab-df-convert:hover {\n",
              "      background-color: #434B5C;\n",
              "      box-shadow: 0px 1px 3px 1px rgba(0, 0, 0, 0.15);\n",
              "      filter: drop-shadow(0px 1px 2px rgba(0, 0, 0, 0.3));\n",
              "      fill: #FFFFFF;\n",
              "    }\n",
              "  </style>\n",
              "\n",
              "    <script>\n",
              "      const buttonEl =\n",
              "        document.querySelector('#df-60d9ef95-7a32-4fd8-b982-0a1c30bd0b1e button.colab-df-convert');\n",
              "      buttonEl.style.display =\n",
              "        google.colab.kernel.accessAllowed ? 'block' : 'none';\n",
              "\n",
              "      async function convertToInteractive(key) {\n",
              "        const element = document.querySelector('#df-60d9ef95-7a32-4fd8-b982-0a1c30bd0b1e');\n",
              "        const dataTable =\n",
              "          await google.colab.kernel.invokeFunction('convertToInteractive',\n",
              "                                                    [key], {});\n",
              "        if (!dataTable) return;\n",
              "\n",
              "        const docLinkHtml = 'Like what you see? Visit the ' +\n",
              "          '<a target=\"_blank\" href=https://colab.research.google.com/notebooks/data_table.ipynb>data table notebook</a>'\n",
              "          + ' to learn more about interactive tables.';\n",
              "        element.innerHTML = '';\n",
              "        dataTable['output_type'] = 'display_data';\n",
              "        await google.colab.output.renderOutput(dataTable, element);\n",
              "        const docLink = document.createElement('div');\n",
              "        docLink.innerHTML = docLinkHtml;\n",
              "        element.appendChild(docLink);\n",
              "      }\n",
              "    </script>\n",
              "  </div>\n",
              "\n",
              "\n",
              "<div id=\"df-bb76ef1a-d0f2-41d2-90a2-2b585222a48f\">\n",
              "  <button class=\"colab-df-quickchart\" onclick=\"quickchart('df-bb76ef1a-d0f2-41d2-90a2-2b585222a48f')\"\n",
              "            title=\"Suggest charts\"\n",
              "            style=\"display:none;\">\n",
              "\n",
              "<svg xmlns=\"http://www.w3.org/2000/svg\" height=\"24px\"viewBox=\"0 0 24 24\"\n",
              "     width=\"24px\">\n",
              "    <g>\n",
              "        <path d=\"M19 3H5c-1.1 0-2 .9-2 2v14c0 1.1.9 2 2 2h14c1.1 0 2-.9 2-2V5c0-1.1-.9-2-2-2zM9 17H7v-7h2v7zm4 0h-2V7h2v10zm4 0h-2v-4h2v4z\"/>\n",
              "    </g>\n",
              "</svg>\n",
              "  </button>\n",
              "\n",
              "<style>\n",
              "  .colab-df-quickchart {\n",
              "      --bg-color: #E8F0FE;\n",
              "      --fill-color: #1967D2;\n",
              "      --hover-bg-color: #E2EBFA;\n",
              "      --hover-fill-color: #174EA6;\n",
              "      --disabled-fill-color: #AAA;\n",
              "      --disabled-bg-color: #DDD;\n",
              "  }\n",
              "\n",
              "  [theme=dark] .colab-df-quickchart {\n",
              "      --bg-color: #3B4455;\n",
              "      --fill-color: #D2E3FC;\n",
              "      --hover-bg-color: #434B5C;\n",
              "      --hover-fill-color: #FFFFFF;\n",
              "      --disabled-bg-color: #3B4455;\n",
              "      --disabled-fill-color: #666;\n",
              "  }\n",
              "\n",
              "  .colab-df-quickchart {\n",
              "    background-color: var(--bg-color);\n",
              "    border: none;\n",
              "    border-radius: 50%;\n",
              "    cursor: pointer;\n",
              "    display: none;\n",
              "    fill: var(--fill-color);\n",
              "    height: 32px;\n",
              "    padding: 0;\n",
              "    width: 32px;\n",
              "  }\n",
              "\n",
              "  .colab-df-quickchart:hover {\n",
              "    background-color: var(--hover-bg-color);\n",
              "    box-shadow: 0 1px 2px rgba(60, 64, 67, 0.3), 0 1px 3px 1px rgba(60, 64, 67, 0.15);\n",
              "    fill: var(--button-hover-fill-color);\n",
              "  }\n",
              "\n",
              "  .colab-df-quickchart-complete:disabled,\n",
              "  .colab-df-quickchart-complete:disabled:hover {\n",
              "    background-color: var(--disabled-bg-color);\n",
              "    fill: var(--disabled-fill-color);\n",
              "    box-shadow: none;\n",
              "  }\n",
              "\n",
              "  .colab-df-spinner {\n",
              "    border: 2px solid var(--fill-color);\n",
              "    border-color: transparent;\n",
              "    border-bottom-color: var(--fill-color);\n",
              "    animation:\n",
              "      spin 1s steps(1) infinite;\n",
              "  }\n",
              "\n",
              "  @keyframes spin {\n",
              "    0% {\n",
              "      border-color: transparent;\n",
              "      border-bottom-color: var(--fill-color);\n",
              "      border-left-color: var(--fill-color);\n",
              "    }\n",
              "    20% {\n",
              "      border-color: transparent;\n",
              "      border-left-color: var(--fill-color);\n",
              "      border-top-color: var(--fill-color);\n",
              "    }\n",
              "    30% {\n",
              "      border-color: transparent;\n",
              "      border-left-color: var(--fill-color);\n",
              "      border-top-color: var(--fill-color);\n",
              "      border-right-color: var(--fill-color);\n",
              "    }\n",
              "    40% {\n",
              "      border-color: transparent;\n",
              "      border-right-color: var(--fill-color);\n",
              "      border-top-color: var(--fill-color);\n",
              "    }\n",
              "    60% {\n",
              "      border-color: transparent;\n",
              "      border-right-color: var(--fill-color);\n",
              "    }\n",
              "    80% {\n",
              "      border-color: transparent;\n",
              "      border-right-color: var(--fill-color);\n",
              "      border-bottom-color: var(--fill-color);\n",
              "    }\n",
              "    90% {\n",
              "      border-color: transparent;\n",
              "      border-bottom-color: var(--fill-color);\n",
              "    }\n",
              "  }\n",
              "</style>\n",
              "\n",
              "  <script>\n",
              "    async function quickchart(key) {\n",
              "      const quickchartButtonEl =\n",
              "        document.querySelector('#' + key + ' button');\n",
              "      quickchartButtonEl.disabled = true;  // To prevent multiple clicks.\n",
              "      quickchartButtonEl.classList.add('colab-df-spinner');\n",
              "      try {\n",
              "        const charts = await google.colab.kernel.invokeFunction(\n",
              "            'suggestCharts', [key], {});\n",
              "      } catch (error) {\n",
              "        console.error('Error during call to suggestCharts:', error);\n",
              "      }\n",
              "      quickchartButtonEl.classList.remove('colab-df-spinner');\n",
              "      quickchartButtonEl.classList.add('colab-df-quickchart-complete');\n",
              "    }\n",
              "    (() => {\n",
              "      let quickchartButtonEl =\n",
              "        document.querySelector('#df-bb76ef1a-d0f2-41d2-90a2-2b585222a48f button');\n",
              "      quickchartButtonEl.style.display =\n",
              "        google.colab.kernel.accessAllowed ? 'block' : 'none';\n",
              "    })();\n",
              "  </script>\n",
              "</div>\n",
              "\n",
              "  <div id=\"id_f6a5fdbd-f412-4ad9-bc0d-1dad6457250e\">\n",
              "    <style>\n",
              "      .colab-df-generate {\n",
              "        background-color: #E8F0FE;\n",
              "        border: none;\n",
              "        border-radius: 50%;\n",
              "        cursor: pointer;\n",
              "        display: none;\n",
              "        fill: #1967D2;\n",
              "        height: 32px;\n",
              "        padding: 0 0 0 0;\n",
              "        width: 32px;\n",
              "      }\n",
              "\n",
              "      .colab-df-generate:hover {\n",
              "        background-color: #E2EBFA;\n",
              "        box-shadow: 0px 1px 2px rgba(60, 64, 67, 0.3), 0px 1px 3px 1px rgba(60, 64, 67, 0.15);\n",
              "        fill: #174EA6;\n",
              "      }\n",
              "\n",
              "      [theme=dark] .colab-df-generate {\n",
              "        background-color: #3B4455;\n",
              "        fill: #D2E3FC;\n",
              "      }\n",
              "\n",
              "      [theme=dark] .colab-df-generate:hover {\n",
              "        background-color: #434B5C;\n",
              "        box-shadow: 0px 1px 3px 1px rgba(0, 0, 0, 0.15);\n",
              "        filter: drop-shadow(0px 1px 2px rgba(0, 0, 0, 0.3));\n",
              "        fill: #FFFFFF;\n",
              "      }\n",
              "    </style>\n",
              "    <button class=\"colab-df-generate\" onclick=\"generateWithVariable('classids')\"\n",
              "            title=\"Generate code using this dataframe.\"\n",
              "            style=\"display:none;\">\n",
              "\n",
              "  <svg xmlns=\"http://www.w3.org/2000/svg\" height=\"24px\"viewBox=\"0 0 24 24\"\n",
              "       width=\"24px\">\n",
              "    <path d=\"M7,19H8.4L18.45,9,17,7.55,7,17.6ZM5,21V16.75L18.45,3.32a2,2,0,0,1,2.83,0l1.4,1.43a1.91,1.91,0,0,1,.58,1.4,1.91,1.91,0,0,1-.58,1.4L9.25,21ZM18.45,9,17,7.55Zm-12,3A5.31,5.31,0,0,0,4.9,8.1,5.31,5.31,0,0,0,1,6.5,5.31,5.31,0,0,0,4.9,4.9,5.31,5.31,0,0,0,6.5,1,5.31,5.31,0,0,0,8.1,4.9,5.31,5.31,0,0,0,12,6.5,5.46,5.46,0,0,0,6.5,12Z\"/>\n",
              "  </svg>\n",
              "    </button>\n",
              "    <script>\n",
              "      (() => {\n",
              "      const buttonEl =\n",
              "        document.querySelector('#id_f6a5fdbd-f412-4ad9-bc0d-1dad6457250e button.colab-df-generate');\n",
              "      buttonEl.style.display =\n",
              "        google.colab.kernel.accessAllowed ? 'block' : 'none';\n",
              "\n",
              "      buttonEl.onclick = () => {\n",
              "        google.colab.notebook.generateWithVariable('classids');\n",
              "      }\n",
              "      })();\n",
              "    </script>\n",
              "  </div>\n",
              "\n",
              "    </div>\n",
              "  </div>\n"
            ],
            "application/vnd.google.colaboratory.intrinsic+json": {
              "type": "dataframe",
              "variable_name": "classids",
              "summary": "{\n  \"name\": \"classids\",\n  \"rows\": 990,\n  \"fields\": [\n    {\n      \"column\": \"id\",\n      \"properties\": {\n        \"dtype\": \"number\",\n        \"std\": 452,\n        \"min\": 1,\n        \"max\": 1584,\n        \"num_unique_values\": 990,\n        \"samples\": [\n          362,\n          545,\n          810\n        ],\n        \"semantic_type\": \"\",\n        \"description\": \"\"\n      }\n    },\n    {\n      \"column\": \"species\",\n      \"properties\": {\n        \"dtype\": \"category\",\n        \"num_unique_values\": 100,\n        \"samples\": [\n          \"Viburnum_Tinus\",\n          \"Quercus_Phellos\",\n          \"Acer_Capillipes\"\n        ],\n        \"semantic_type\": \"\",\n        \"description\": \"\"\n      }\n    }\n  ]\n}"
            }
          },
          "metadata": {},
          "execution_count": 7
        }
      ]
    },
    {
      "cell_type": "code",
      "source": [
        "classids=classids.to_numpy(dtype=str, copy=False)"
      ],
      "metadata": {
        "id": "fwvg1kHHC9vm"
      },
      "execution_count": 8,
      "outputs": []
    },
    {
      "cell_type": "code",
      "source": [
        "type(classids)"
      ],
      "metadata": {
        "colab": {
          "base_uri": "https://localhost:8080/"
        },
        "id": "2hb2XllnExZr",
        "outputId": "d8541953-ea38-464b-bfb9-c8a61df7c032"
      },
      "execution_count": 9,
      "outputs": [
        {
          "output_type": "execute_result",
          "data": {
            "text/plain": [
              "numpy.ndarray"
            ]
          },
          "metadata": {},
          "execution_count": 9
        }
      ]
    },
    {
      "cell_type": "code",
      "source": [
        "classids.shape"
      ],
      "metadata": {
        "colab": {
          "base_uri": "https://localhost:8080/"
        },
        "id": "30hfLmiFDSrZ",
        "outputId": "ddf47e14-98d9-4fa9-f6da-6981ed0c2c9c"
      },
      "execution_count": 10,
      "outputs": [
        {
          "output_type": "execute_result",
          "data": {
            "text/plain": [
              "(990, 2)"
            ]
          },
          "metadata": {},
          "execution_count": 10
        }
      ]
    },
    {
      "cell_type": "code",
      "source": [
        "ids_long=[]\n",
        "ids_short=[]\n",
        "for i in range (classids.shape[0]):\n",
        "  if classids[i][1]=='Quercus_Variabilis':\n",
        "    ids_long.append(classids[i][0])\n",
        "\n",
        "for i in range (classids.shape[0]):\n",
        "  if classids[i][1]=='Liriodendron_Tulipifera':\n",
        "    ids_short.append(classids[i][0])\n"
      ],
      "metadata": {
        "id": "wla69cjEEKKn"
      },
      "execution_count": 11,
      "outputs": []
    },
    {
      "cell_type": "code",
      "source": [
        "\n",
        "ids_long = list(map(int,ids_long))  # Convert to integers\n",
        "\n",
        "print(ids_long)"
      ],
      "metadata": {
        "colab": {
          "base_uri": "https://localhost:8080/"
        },
        "id": "qQxxalToEYNz",
        "outputId": "411c1ad7-7956-435c-8211-72001969210b"
      },
      "execution_count": 12,
      "outputs": [
        {
          "output_type": "stream",
          "name": "stdout",
          "text": [
            "[6, 32, 64, 120, 190, 278, 327, 692, 866, 961]\n"
          ]
        }
      ]
    },
    {
      "cell_type": "code",
      "source": [
        "\n",
        "ids_short = list(map(int,ids_short))  # Convert to integers\n",
        "\n",
        "print(ids_short)"
      ],
      "metadata": {
        "id": "YRgS-YqPFvoI",
        "colab": {
          "base_uri": "https://localhost:8080/"
        },
        "outputId": "c2449778-f45b-4f57-f33c-dafd9e3c9dad"
      },
      "execution_count": 13,
      "outputs": [
        {
          "output_type": "stream",
          "name": "stdout",
          "text": [
            "[48, 85, 122, 212, 430, 501, 538, 722, 794, 878]\n"
          ]
        }
      ]
    },
    {
      "cell_type": "code",
      "source": [
        "def calc_aspect_ratio(img):\n",
        "    ratio=img.shape[1]/img.shape[0]\n",
        "    return ratio"
      ],
      "metadata": {
        "id": "4Um581z3QS7K"
      },
      "execution_count": 14,
      "outputs": []
    },
    {
      "cell_type": "code",
      "source": [
        "def calc_area(img):\n",
        "  total_pixel=img.shape[1]*img.shape[0]\n",
        "  white_pixel=0\n",
        "  for i in range(img.shape[0]):\n",
        "    for j in range(img.shape[1]):\n",
        "      if img[i][j]!=0:\n",
        "        white_pixel=white_pixel+1\n",
        "    area=white_pixel/total_pixel\n",
        "  return area"
      ],
      "metadata": {
        "id": "WNZnIP29Sqma"
      },
      "execution_count": 15,
      "outputs": []
    },
    {
      "cell_type": "code",
      "source": [
        "import imageio.v2 as imageio\n",
        "\n",
        "\n",
        "import os\n",
        "import numpy as np\n",
        "from PIL import Image\n",
        "\n",
        "\n",
        "\n",
        "\n",
        "image_folder = folder\n",
        "\n",
        "\n",
        "image_arrays = {}  # Dictionary to store images as NumPy arrays\n",
        "features_long=[]\n",
        "for number in ids_long:\n",
        "    image_name = f\"{number}.jpg\"  # Construct the expected filename\n",
        "    image_path = os.path.join(image_folder, image_name)\n",
        "\n",
        "    if os.path.exists(image_path):  # Check if the file exists\n",
        "        image = Image.open(image_path)  # Open the image\n",
        "        image_array = np.array(image)\n",
        "        ratio=calc_aspect_ratio(image_array)\n",
        "        area=calc_area(image_array)\n",
        "        features_long.append([ratio,area])\n",
        "        print(f\"Image {image_name} found and converted to NumPy array.\")\n",
        "    else:\n",
        "        print(f\"Image {image_name} not found.\")\n",
        "\n"
      ],
      "metadata": {
        "id": "VbGg18FALVy5",
        "colab": {
          "base_uri": "https://localhost:8080/"
        },
        "outputId": "e219f669-060f-4586-bfc8-9f49b9364126"
      },
      "execution_count": 16,
      "outputs": [
        {
          "output_type": "stream",
          "name": "stdout",
          "text": [
            "Image 6.jpg found and converted to NumPy array.\n",
            "Image 32.jpg found and converted to NumPy array.\n",
            "Image 64.jpg found and converted to NumPy array.\n",
            "Image 120.jpg found and converted to NumPy array.\n",
            "Image 190.jpg found and converted to NumPy array.\n",
            "Image 278.jpg found and converted to NumPy array.\n",
            "Image 327.jpg found and converted to NumPy array.\n",
            "Image 692.jpg found and converted to NumPy array.\n",
            "Image 866.jpg found and converted to NumPy array.\n",
            "Image 961.jpg found and converted to NumPy array.\n"
          ]
        }
      ]
    },
    {
      "cell_type": "code",
      "source": [
        "features_short=[]\n",
        "\n",
        "for number in ids_short:\n",
        "    image_name = f\"{number}.jpg\"  # Construct the expected filename\n",
        "    image_path = os.path.join(image_folder, image_name)\n",
        "\n",
        "    if os.path.exists(image_path):  # Check if the file exists\n",
        "        image = Image.open(image_path)  # Open the image\n",
        "        image_array = np.array(image)\n",
        "        ratio=calc_aspect_ratio(image_array)\n",
        "        area=calc_area(image_array)                       # Convert to NumPy array\n",
        "        features_short.append([ratio,area])\n",
        "        print(f\"Image {image_name} found and converted to NumPy array.\")\n",
        "    else:\n",
        "        print(f\"Image {image_name} not found.\")"
      ],
      "metadata": {
        "colab": {
          "base_uri": "https://localhost:8080/"
        },
        "id": "i-mDq316OgY1",
        "outputId": "7b07ad2a-9b3f-4a4b-a4e2-75a1d706889a"
      },
      "execution_count": 17,
      "outputs": [
        {
          "output_type": "stream",
          "name": "stdout",
          "text": [
            "Image 48.jpg found and converted to NumPy array.\n",
            "Image 85.jpg found and converted to NumPy array.\n",
            "Image 122.jpg found and converted to NumPy array.\n",
            "Image 212.jpg found and converted to NumPy array.\n",
            "Image 430.jpg found and converted to NumPy array.\n",
            "Image 501.jpg found and converted to NumPy array.\n",
            "Image 538.jpg found and converted to NumPy array.\n",
            "Image 722.jpg found and converted to NumPy array.\n",
            "Image 794.jpg found and converted to NumPy array.\n",
            "Image 878.jpg found and converted to NumPy array.\n"
          ]
        }
      ]
    },
    {
      "cell_type": "code",
      "source": [
        "features_long"
      ],
      "metadata": {
        "colab": {
          "base_uri": "https://localhost:8080/"
        },
        "id": "vPA-EdCZPt7n",
        "outputId": "14f8972c-a57e-46b2-8da9-544aacd0b7d3"
      },
      "execution_count": 18,
      "outputs": [
        {
          "output_type": "execute_result",
          "data": {
            "text/plain": [
              "[[2.3293051359516617, 0.514798139505723],\n",
              " [2.582802547770701, 0.5171841007798818],\n",
              " [2.561128526645768, 0.5038925958184811],\n",
              " [2.1082621082621085, 0.5060868560868561],\n",
              " [2.4403669724770642, 0.504146451756302],\n",
              " [2.5241157556270095, 0.5395416470395478],\n",
              " [2.2379518072289155, 0.5330109131005853],\n",
              " [2.260355029585799, 0.5090074041946776],\n",
              " [2.5045592705167175, 0.4854516481246496],\n",
              " [2.468152866242038, 0.5401314978426135]]"
            ]
          },
          "metadata": {},
          "execution_count": 18
        }
      ]
    },
    {
      "cell_type": "code",
      "source": [
        "features_short"
      ],
      "metadata": {
        "colab": {
          "base_uri": "https://localhost:8080/"
        },
        "id": "_Xy_B54lUm7-",
        "outputId": "66833f87-9820-4cf0-f442-2afe4d7b8f77"
      },
      "execution_count": 19,
      "outputs": [
        {
          "output_type": "execute_result",
          "data": {
            "text/plain": [
              "[[1.0410094637223974, 0.5422532368904609],\n",
              " [1.0361930294906165, 0.5419382025394601],\n",
              " [1.020746887966805, 0.5330316179199136],\n",
              " [1.1170483460559797, 0.5614787830310618],\n",
              " [1.074150360453141, 0.5371605909831914],\n",
              " [0.9927385892116183, 0.5536828436027177],\n",
              " [0.9242738589211619, 0.6114371003720934],\n",
              " [1.1421215242018539, 0.582213311367809],\n",
              " [1.1305418719211822, 0.5922558678643871],\n",
              " [1.1514285714285715, 0.5616412619638426]]"
            ]
          },
          "metadata": {},
          "execution_count": 19
        }
      ]
    },
    {
      "cell_type": "code",
      "source": [
        "import random\n",
        "\n",
        "random.shuffle(features_short)\n",
        "random.shuffle(features_long)\n",
        "# Compute split index (70% for training)\n",
        "split_index_short = int(0.7 * len(features_short))\n",
        "split_index_long = int(0.7 * len(features_long))\n",
        "# Perform the split\n",
        "train_data_short = features_short[:split_index_short]  # First 70%\n",
        "test_data_short = features_short[split_index_short:]   # Remaining 30%\n",
        "train_data_long = features_long[:split_index_long]  # First 70%\n",
        "test_data_long = features_long[split_index_long:]   # Remaining 30%"
      ],
      "metadata": {
        "id": "SFw9U8DgTvyo"
      },
      "execution_count": 20,
      "outputs": []
    },
    {
      "cell_type": "code",
      "source": [
        "train_data_short\n"
      ],
      "metadata": {
        "colab": {
          "base_uri": "https://localhost:8080/"
        },
        "id": "Djj-exRpT0pk",
        "outputId": "8865e604-b63f-4d33-a97d-3a23c3823a7e"
      },
      "execution_count": 21,
      "outputs": [
        {
          "output_type": "execute_result",
          "data": {
            "text/plain": [
              "[[1.1421215242018539, 0.582213311367809],\n",
              " [1.020746887966805, 0.5330316179199136],\n",
              " [0.9927385892116183, 0.5536828436027177],\n",
              " [0.9242738589211619, 0.6114371003720934],\n",
              " [1.1170483460559797, 0.5614787830310618],\n",
              " [1.0410094637223974, 0.5422532368904609],\n",
              " [1.0361930294906165, 0.5419382025394601]]"
            ]
          },
          "metadata": {},
          "execution_count": 21
        }
      ]
    },
    {
      "cell_type": "code",
      "source": [
        "mean_short = np.mean(train_data_short, axis=0)\n",
        "variance_short = np.var(train_data_short, axis=0)\n",
        "mean_long = np.mean(train_data_long, axis=0)\n",
        "variance_long = np.var(train_data_long, axis=0)"
      ],
      "metadata": {
        "id": "TcDaIcKLYozW"
      },
      "execution_count": 22,
      "outputs": []
    },
    {
      "cell_type": "code",
      "source": [
        "print(mean_short)\n",
        "print(mean_long)\n",
        "print(variance_short)\n",
        "print(variance_long)"
      ],
      "metadata": {
        "colab": {
          "base_uri": "https://localhost:8080/"
        },
        "id": "pTc-hHZlZMXm",
        "outputId": "c867e8aa-4f6e-4ee3-88ba-eaf5ec75f82b"
      },
      "execution_count": 23,
      "outputs": [
        {
          "output_type": "stream",
          "name": "stdout",
          "text": [
            "[1.03916167 0.56086216]\n",
            "[2.37985998 0.51620855]\n",
            "[0.00462467 0.00064922]\n",
            "[0.02766935 0.00018672]\n"
          ]
        }
      ]
    },
    {
      "cell_type": "code",
      "source": [
        "train_data_short_np = np.array(train_data_short)\n",
        "feature_1_short=train_data_short_np[:,0]#aspect ratio\n",
        "feature_2_short=train_data_short_np[:,1]#area ratio\n",
        "train_data_long_np = np.array(train_data_long)\n",
        "feature_1_long=train_data_long_np[:,0]\n",
        "feature_2_long=train_data_long_np[:,1]"
      ],
      "metadata": {
        "id": "bRM7tC-WaYON"
      },
      "execution_count": 24,
      "outputs": []
    },
    {
      "cell_type": "code",
      "source": [
        "cov_matrix_short = np.cov(feature_1_short, feature_2_short, bias=True)\n",
        "cov_matrix_long = np.cov(feature_1_long, feature_2_long, bias=True)"
      ],
      "metadata": {
        "id": "br7Q2PoXZTZo"
      },
      "execution_count": 25,
      "outputs": []
    },
    {
      "cell_type": "code",
      "source": [
        "cov_matrix_long\n"
      ],
      "metadata": {
        "colab": {
          "base_uri": "https://localhost:8080/"
        },
        "id": "rkICjOGPbWAU",
        "outputId": "abb99f61-0c92-43b4-ac42-fa3ccdecbc43"
      },
      "execution_count": 26,
      "outputs": [
        {
          "output_type": "execute_result",
          "data": {
            "text/plain": [
              "array([[2.76693526e-02, 8.18687060e-05],\n",
              "       [8.18687060e-05, 1.86722953e-04]])"
            ]
          },
          "metadata": {},
          "execution_count": 26
        }
      ]
    },
    {
      "cell_type": "code",
      "source": [
        "import numpy as np\n",
        "import matplotlib.pyplot as plt\n",
        "\n",
        "\n",
        "\n",
        "\n",
        "samples_1 = np.random.multivariate_normal(mean_short, cov_matrix_short, size=1000)\n",
        "samples_2 = np.random.multivariate_normal(mean_long, cov_matrix_long, size=1000)\n",
        "\n",
        "x1, y1 = samples_1[:, 0], samples_1[:, 1]\n",
        "x2, y2 = samples_2[:, 0], samples_2[:, 1]\n",
        "\n",
        "plt.figure(figsize=(7, 7))\n",
        "plt.scatter(x1, y1, alpha=0.5, label=\"Liriodendron_Tulipifera\", color=\"blue\")\n",
        "plt.scatter(x2, y2, alpha=0.5, label=\"Quercus_Variabilis\", color=\"red\")\n",
        "\n",
        "\n",
        "plt.xlabel(\"Aspect Ratio\")\n",
        "plt.ylabel(\"Area Ratio\")\n",
        "plt.title(\"Two 2D Gaussian Distributions\")\n",
        "plt.legend()\n",
        "plt.grid()\n",
        "plt.show()\n"
      ],
      "metadata": {
        "colab": {
          "base_uri": "https://localhost:8080/",
          "height": 641
        },
        "id": "aKyojOC6b7ox",
        "outputId": "9853a4d6-cf16-46fc-d2b2-428447e492ba"
      },
      "execution_count": 27,
      "outputs": [
        {
          "output_type": "display_data",
          "data": {
            "text/plain": [
              "<Figure size 700x700 with 1 Axes>"
            ],
            "image/png": "[encoded data removed]"
          },
          "metadata": {}
        }
      ]
    },
    {
      "cell_type": "code",
      "source": [
        "import numpy as np\n",
        "import matplotlib.pyplot as plt\n",
        "from scipy.stats import multivariate_normal\n",
        "samples_1 = np.random.multivariate_normal(mean_short, cov_matrix_short, size=1000)\n",
        "samples_2 = np.random.multivariate_normal(mean_long, cov_matrix_long, size=1000)\n",
        "\n",
        "\n",
        "x1, y1 = samples_1[:, 0], samples_1[:, 1]\n",
        "x2, y2 = samples_2[:, 0], samples_2[:, 1]\n",
        "\n",
        "x_values = np.linspace(-1.5, 3.5, 200)\n",
        "y_values = np.linspace(-1.5, 3.5, 200)\n",
        "X, Y = np.meshgrid(x_values, y_values)\n",
        "pos = np.dstack((X, Y))\n",
        "\n",
        "\n",
        "rv1 = multivariate_normal(mean_short, cov_matrix_short)\n",
        "Z1 = rv1.pdf(pos)\n",
        "\n",
        "rv2 = multivariate_normal(mean_long, cov_matrix_long)\n",
        "Z2 = rv2.pdf(pos)\n",
        "\n",
        "# Create the plot\n",
        "plt.figure(figsize=(7, 7))\n",
        "\n",
        "\n",
        "plt.scatter(x1, y1, alpha=0.3, label=\"Liriodendron_Tulipifera\", color=\"blue\")\n",
        "plt.scatter(x2, y2, alpha=0.3, label=\"Quercus_Variabilis\", color=\"red\")\n",
        "\n",
        "\n",
        "plt.contour(X, Y, Z1, levels=20, cmap=\"Blues\")\n",
        "plt.contour(X, Y, Z2, levels=20, cmap=\"Reds\")\n",
        "\n",
        "\n",
        "plt.xlim(-1.5, 3.5)\n",
        "plt.ylim(-1.5, 3.5)\n",
        "\n",
        "\n",
        "plt.xlabel(\"Aspect Ratio\")\n",
        "plt.ylabel(\"Area Ratio\")\n",
        "plt.title(\" Contour\")\n",
        "plt.legend()\n",
        "plt.grid()\n",
        "plt.show()"
      ],
      "metadata": {
        "colab": {
          "base_uri": "https://localhost:8080/",
          "height": 641
        },
        "id": "RmCmStRBe2wE",
        "outputId": "7a63dd39-2aa7-41e1-84a8-0116c427c313"
      },
      "execution_count": 48,
      "outputs": [
        {
          "output_type": "display_data",
          "data": {
            "text/plain": [
              "<Figure size 700x700 with 1 Axes>"
            ],
            "image/png": "[encoded data removed]"
          },
          "metadata": {}
        }
      ]
    },
    {
      "cell_type": "code",
      "source": [
        "\n",
        "\n",
        "\n",
        "mean_1 = mean_short\n",
        "cov_1 = cov_matrix_short\n",
        "\n",
        "\n",
        "mean_2 = mean_long\n",
        "cov_2 = cov_matrix_long\n",
        "\n",
        "\n",
        "x_values = np.linspace(-3, 5, 100)\n",
        "y_values = np.linspace(-3, 5, 100)\n",
        "X, Y = np.meshgrid(x_values, y_values)\n",
        "pos = np.dstack((X, Y))\n",
        "\n",
        "\n",
        "rv1 = multivariate_normal(mean_1, cov_1)\n",
        "Z1 = rv1.pdf(pos)\n",
        "\n",
        "rv2 = multivariate_normal(mean_2, cov_2)\n",
        "Z2 = rv2.pdf(pos)\n",
        "\n",
        "decision_boundary = Z1 - Z2\n",
        "\n",
        "\n",
        "plt.figure(figsize=(7, 7))\n",
        "plt.scatter(x1, y1, alpha=0.5, label=\"Gaussian 1\", color=\"blue\")\n",
        "plt.scatter(x2, y2, alpha=0.5, label=\"Gaussian 2\", color=\"red\")\n",
        "\n",
        "plt.contour(X, Y, decision_boundary, levels=[0], colors=\"black\", linewidths=2, label=\"Decision Boundary\")\n",
        "\n",
        "plt.xlabel(\"Aspect Ratio\")\n",
        "plt.ylabel(\"Area Ratio\")\n",
        "plt.title(\"Decision Boundary Between Two 2D Gaussian Distributions\")\n",
        "plt.legend([\"Decision Boundary\"])\n",
        "plt.grid()\n",
        "plt.show()\n",
        "\n"
      ],
      "metadata": {
        "colab": {
          "base_uri": "https://localhost:8080/",
          "height": 676
        },
        "id": "7JVlY_GZcfjL",
        "outputId": "c08de929-12e0-47e5-8610-b665b9f05333"
      },
      "execution_count": 29,
      "outputs": [
        {
          "output_type": "stream",
          "name": "stderr",
          "text": [
            "<ipython-input-29-d579643d1056>:28: UserWarning: The following kwargs were not used by contour: 'label'\n",
            "  plt.contour(X, Y, decision_boundary, levels=[0], colors=\"black\", linewidths=2, label=\"Decision Boundary\")\n"
          ]
        },
        {
          "output_type": "display_data",
          "data": {
            "text/plain": [
              "<Figure size 700x700 with 1 Axes>"
            ],
            "image/png": "[encoded data removed]"
          },
          "metadata": {}
        }
      ]
    },
    {
      "cell_type": "code",
      "source": [],
      "metadata": {
        "id": "80Hsojk6dFJX"
      },
      "execution_count": 30,
      "outputs": []
    },
    {
      "cell_type": "code",
      "source": [
        "import numpy as np\n",
        "\n",
        "def likelihood_long(x, mean=mean_long, cov=cov_matrix_long):\n",
        "\n",
        "    d = len(mean)\n",
        "    x = np.array(x)\n",
        "    mean = np.array(mean)\n",
        "    cov = np.array(cov)\n",
        "\n",
        "\n",
        "    coeff = 1 / ((2 * np.pi) ** (d / 2) * np.linalg.det(cov) ** 0.5)\n",
        "\n",
        "\n",
        "    diff = x - mean\n",
        "    exponent = -0.5 * np.dot(np.dot(diff.T, np.linalg.inv(cov)), diff)\n",
        "\n",
        "\n",
        "    prob = coeff * np.exp(exponent)\n",
        "    return prob\n",
        "def likelihood_short(x, mean=mean_short, cov=cov_matrix_short):\n",
        "\n",
        "    d = len(mean)\n",
        "    x = np.array(x)\n",
        "    mean = np.array(mean)\n",
        "    cov = np.array(cov)\n",
        "\n",
        "\n",
        "    coeff = 1 / ((2 * np.pi) ** (d / 2) * np.linalg.det(cov) ** 0.5)\n",
        "\n",
        "    diff = x - mean\n",
        "    exponent = -0.5 * np.dot(np.dot(diff.T, np.linalg.inv(cov)), diff)\n",
        "\n",
        "    prob = coeff * np.exp(exponent)\n",
        "    return prob"
      ],
      "metadata": {
        "id": "oF7ccxG3hkT3"
      },
      "execution_count": 31,
      "outputs": []
    },
    {
      "cell_type": "code",
      "source": [
        "#Adding labels to the input data for inference\n",
        "\n",
        "\n",
        "\n",
        "new_col1 = np.array([1, 1, 1])\n",
        "\n",
        "testlong_new = np.column_stack((test_data_long, new_col1))\n",
        "\n",
        "print(testlong_new)\n"
      ],
      "metadata": {
        "colab": {
          "base_uri": "https://localhost:8080/"
        },
        "id": "bNyeKFR96Ede",
        "outputId": "060ed4d8-8a37-40a7-ad61-e00e713a92d6"
      },
      "execution_count": 32,
      "outputs": [
        {
          "output_type": "stream",
          "name": "stdout",
          "text": [
            "[[2.52411576 0.53954165 1.        ]\n",
            " [2.32930514 0.51479814 1.        ]\n",
            " [2.50455927 0.48545165 1.        ]]\n"
          ]
        }
      ]
    },
    {
      "cell_type": "code",
      "source": [
        "\n",
        "\n",
        "\n",
        "new_col2 = np.array([0, 0, 0])\n",
        "\n",
        "\n",
        "testshort_new = np.column_stack((np.array(test_data_short), new_col2))\n",
        "\n",
        "print(testshort_new)"
      ],
      "metadata": {
        "colab": {
          "base_uri": "https://localhost:8080/"
        },
        "id": "gxfYW90v7Xm-",
        "outputId": "69f6b6bf-257f-4b44-9057-2493c64a8ba9"
      },
      "execution_count": 33,
      "outputs": [
        {
          "output_type": "stream",
          "name": "stdout",
          "text": [
            "[[1.13054187 0.59225587 0.        ]\n",
            " [1.07415036 0.53716059 0.        ]\n",
            " [1.15142857 0.56164126 0.        ]]\n"
          ]
        }
      ]
    },
    {
      "cell_type": "code",
      "source": [
        "long=np.array([1,1,1,1,1,1,1])\n",
        "train_long_new = np.column_stack((np.array(train_data_long),long))\n",
        "train_long_new"
      ],
      "metadata": {
        "colab": {
          "base_uri": "https://localhost:8080/"
        },
        "id": "CbhBiZAJ-l3c",
        "outputId": "0a8ca952-25bf-4a46-af99-3995d587633c"
      },
      "execution_count": 34,
      "outputs": [
        {
          "output_type": "execute_result",
          "data": {
            "text/plain": [
              "array([[2.56112853, 0.5038926 , 1.        ],\n",
              "       [2.23795181, 0.53301091, 1.        ],\n",
              "       [2.44036697, 0.50414645, 1.        ],\n",
              "       [2.58280255, 0.5171841 , 1.        ],\n",
              "       [2.46815287, 0.5401315 , 1.        ],\n",
              "       [2.10826211, 0.50608686, 1.        ],\n",
              "       [2.26035503, 0.5090074 , 1.        ]])"
            ]
          },
          "metadata": {},
          "execution_count": 34
        }
      ]
    },
    {
      "cell_type": "code",
      "source": [
        "short=np.array([0,0,0,0,0,0,0])\n",
        "train_short_new = np.column_stack((np.array(train_data_short),short))\n",
        "train_short_new"
      ],
      "metadata": {
        "colab": {
          "base_uri": "https://localhost:8080/"
        },
        "id": "Q5edq3TT_HuH",
        "outputId": "e701860f-47b8-404c-cf9e-d658cd27aa1d"
      },
      "execution_count": 35,
      "outputs": [
        {
          "output_type": "execute_result",
          "data": {
            "text/plain": [
              "array([[1.14212152, 0.58221331, 0.        ],\n",
              "       [1.02074689, 0.53303162, 0.        ],\n",
              "       [0.99273859, 0.55368284, 0.        ],\n",
              "       [0.92427386, 0.6114371 , 0.        ],\n",
              "       [1.11704835, 0.56147878, 0.        ],\n",
              "       [1.04100946, 0.54225324, 0.        ],\n",
              "       [1.03619303, 0.5419382 , 0.        ]])"
            ]
          },
          "metadata": {},
          "execution_count": 35
        }
      ]
    },
    {
      "cell_type": "code",
      "source": [
        "def pred(x):\n",
        "  prob=likelihood_long(x[0:2])-likelihood_short(x[0:2])\n",
        "\n",
        "  if prob>0:\n",
        "    prob=1\n",
        "  else:\n",
        "    prob=0\n",
        "  # print(f'Prediction of input belonging to Class {x[2]} is {prob} ')\n",
        "  pred_array=[x[2],prob]\n",
        "  return pred_array\n",
        "\n",
        ""
      ],
      "metadata": {
        "id": "Vheqez2jo_UH"
      },
      "execution_count": 36,
      "outputs": []
    },
    {
      "cell_type": "code",
      "source": [
        "predictions_train=[]\n",
        "train_error=0\n",
        "for i in train_long_new:\n",
        "  predictions_train.append(pred(i))\n",
        "  # if cal!=1:\n",
        "  #   train_error+=1\n",
        "for i in train_short_new:\n",
        "  # cal=pred(i)\n",
        "  predictions_train.append(pred(i))\n"
      ],
      "metadata": {
        "id": "B354iXZqkiXZ"
      },
      "execution_count": 37,
      "outputs": []
    },
    {
      "cell_type": "code",
      "source": [
        "predictions_train"
      ],
      "metadata": {
        "colab": {
          "base_uri": "https://localhost:8080/"
        },
        "id": "8r_pgyCOBKZ_",
        "outputId": "77746874-8a75-43fe-b319-d6e235cb5aa2"
      },
      "execution_count": 38,
      "outputs": [
        {
          "output_type": "execute_result",
          "data": {
            "text/plain": [
              "[[1.0, 1],\n",
              " [1.0, 1],\n",
              " [1.0, 1],\n",
              " [1.0, 1],\n",
              " [1.0, 1],\n",
              " [1.0, 1],\n",
              " [1.0, 1],\n",
              " [0.0, 0],\n",
              " [0.0, 0],\n",
              " [0.0, 0],\n",
              " [0.0, 0],\n",
              " [0.0, 0],\n",
              " [0.0, 0],\n",
              " [0.0, 0]]"
            ]
          },
          "metadata": {},
          "execution_count": 38
        }
      ]
    },
    {
      "cell_type": "code",
      "source": [
        "# net_training_error"
      ],
      "metadata": {
        "id": "RHEuJb0Op_9m"
      },
      "execution_count": 39,
      "outputs": []
    },
    {
      "cell_type": "code",
      "source": [
        "test_error=0\n",
        "for i in testlong_new:\n",
        "  cal=pred(i)\n",
        "  if cal!=1:\n",
        "    test_error+=1\n",
        "for i in testshort_new:\n",
        "  cal=pred(i)\n",
        "  if cal!=0:\n",
        "    test_error+=1\n",
        "\n",
        "net_test_error=test_error/(len(test_data_long)+len(test_data_short))"
      ],
      "metadata": {
        "id": "AMl9PoKPkDoS"
      },
      "execution_count": 40,
      "outputs": []
    },
    {
      "cell_type": "code",
      "source": [
        "predictions_test=[]\n",
        "train_error=0\n",
        "for i in testlong_new:\n",
        "  predictions_test.append(pred(i))\n",
        "  # if cal!=1:\n",
        "  #   train_error+=1\n",
        "for i in testshort_new:\n",
        "  # cal=pred(i)\n",
        "  predictions_test.append(pred(i))\n"
      ],
      "metadata": {
        "id": "MDcVsItEBSnY"
      },
      "execution_count": 41,
      "outputs": []
    },
    {
      "cell_type": "code",
      "source": [
        "predictions_test"
      ],
      "metadata": {
        "colab": {
          "base_uri": "https://localhost:8080/"
        },
        "id": "r_OVpViZBmNA",
        "outputId": "a6a71b7d-d7a1-48c9-a06f-108afc12fbc8"
      },
      "execution_count": 42,
      "outputs": [
        {
          "output_type": "execute_result",
          "data": {
            "text/plain": [
              "[[1.0, 1], [1.0, 1], [1.0, 1], [0.0, 0], [0.0, 0], [0.0, 0]]"
            ]
          },
          "metadata": {},
          "execution_count": 42
        }
      ]
    },
    {
      "cell_type": "code",
      "source": [
        "predictions_train = np.array(predictions_train)\n",
        "y_label_train=(predictions_train[:,0])\n",
        "y_pred_train=(predictions_train[:,1])\n",
        "print(y_label_train)\n",
        "print(y_pred_train)"
      ],
      "metadata": {
        "colab": {
          "base_uri": "https://localhost:8080/"
        },
        "id": "TfsqeynKl_3z",
        "outputId": "25ea617d-2e3f-4a07-8c24-0afd55058115"
      },
      "execution_count": 43,
      "outputs": [
        {
          "output_type": "stream",
          "name": "stdout",
          "text": [
            "[1. 1. 1. 1. 1. 1. 1. 0. 0. 0. 0. 0. 0. 0.]\n",
            "[1. 1. 1. 1. 1. 1. 1. 0. 0. 0. 0. 0. 0. 0.]\n"
          ]
        }
      ]
    },
    {
      "cell_type": "code",
      "source": [
        "predictions_test = np.array(predictions_test)\n",
        "y_label_test=(predictions_test[:,0])\n",
        "y_pred_test=(predictions_test[:,1])\n",
        "print(y_label_test)\n",
        "print(y_pred_test)"
      ],
      "metadata": {
        "colab": {
          "base_uri": "https://localhost:8080/"
        },
        "id": "iMQEoxwh34hw",
        "outputId": "0cacc1e8-51bc-40c9-eb44-101a4b374843"
      },
      "execution_count": 44,
      "outputs": [
        {
          "output_type": "stream",
          "name": "stdout",
          "text": [
            "[1. 1. 1. 0. 0. 0.]\n",
            "[1. 1. 1. 0. 0. 0.]\n"
          ]
        }
      ]
    },
    {
      "cell_type": "code",
      "source": [
        "from sklearn.metrics import confusion_matrix, ConfusionMatrixDisplay\n",
        "\n",
        "\n",
        "\n",
        "\n",
        "cm_train = confusion_matrix(y_label_train, y_pred_train)\n",
        "\n",
        "\n",
        "disp = ConfusionMatrixDisplay(confusion_matrix=cm_train)\n",
        "disp.plot(cmap=\"Blues\")\n",
        "\n",
        "plt.title(\"Confusion Matrix For Training Data\")\n",
        "plt.show()"
      ],
      "metadata": {
        "colab": {
          "base_uri": "https://localhost:8080/",
          "height": 472
        },
        "id": "xkX6QxwD468i",
        "outputId": "afc3f281-067e-40c1-be11-30f3d567b6d4"
      },
      "execution_count": 46,
      "outputs": [
        {
          "output_type": "display_data",
          "data": {
            "text/plain": [
              "<Figure size 640x480 with 2 Axes>"
            ],
            "image/png": "[encoded data removed]"
          },
          "metadata": {}
        }
      ]
    },
    {
      "cell_type": "code",
      "source": [
        "from sklearn.metrics import confusion_matrix, ConfusionMatrixDisplay\n",
        "\n",
        "\n",
        "\n",
        "# Compute confusion matrix\n",
        "cm_test = confusion_matrix(y_label_test, y_pred_test)\n",
        "\n",
        "# Display it\n",
        "disp = ConfusionMatrixDisplay(confusion_matrix=cm_test)\n",
        "disp.plot(cmap=\"viridis\")  # You can change cmap (e.g., \"viridis\", \"coolwarm\")\n",
        "\n",
        "plt.title(\"Confusion Matrix For Test Data\")\n",
        "plt.show()"
      ],
      "metadata": {
        "colab": {
          "base_uri": "https://localhost:8080/",
          "height": 472
        },
        "id": "gppok6WkGhBq",
        "outputId": "fbdb4c9d-86cf-4131-e017-dfb5fb7c3ce8"
      },
      "execution_count": 47,
      "outputs": [
        {
          "output_type": "display_data",
          "data": {
            "text/plain": [
              "<Figure size 640x480 with 2 Axes>"
            ],
            "image/png": "[encoded data removed]"
          },
          "metadata": {}
        }
      ]
    },
    {
      "cell_type": "code",
      "source": [],
      "metadata": {
        "id": "-u6rnNwkGyj9"
      },
      "execution_count": 47,
      "outputs": []
    }
  ]
}